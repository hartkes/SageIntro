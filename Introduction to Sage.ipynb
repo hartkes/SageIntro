{
 "cells": [
  {
   "cell_type": "markdown",
   "id": "2038fcd4",
   "metadata": {},
   "source": [
    "# What is Sage?\n",
    "\n",
    "[SageMath](https://www.sagemath.org/) is a free open-source mathematics software system licensed under the GPL.\n",
    "You can think of Sage as Python extended with a large mathematical library (some written for Sage, and other parts sitting on top of other open-source mathematical software, such as numpy, GAP, and R).\n",
    "\n",
    "Sage was originally called \"Sage\", but changed to \"SageMath\" to avoid ambiguity with other projects named \"Sage\" and to make google searches easier.\n",
    "\n",
    "Sage's mission is *Creating a viable free open source alternative to Magma, Maple, Mathematica and Matlab.*\n",
    "\n",
    "William Stein created Sage and released the first public version in 2005.\n",
    "\n",
    "I started using Sage in 2007."
   ]
  },
  {
   "cell_type": "markdown",
   "id": "5408d4e1",
   "metadata": {},
   "source": [
    "# How to run Sage?\n",
    "\n",
    "+ Install on your own computer.  This is easy for Unix-like systems, such as Linux or MacOS.  Not so easy on Windows: usually requires Windows Subsystem for Linux, or running a virtual machine.\n",
    "+ Online at [CoCalc](https://cocalc.com/).  CoCalc was launched by William Stein in 2013 as a way to make it easy for people to use Sage online.  CoCalc also provides collaborative LaTeX editing and access to a full Ubuntu virtual machine.\n",
    "+ [Sage Cell Server](https://sagecell.sagemath.org/) is convenient for quickly running short code."
   ]
  },
  {
   "cell_type": "markdown",
   "id": "e3246a62",
   "metadata": {},
   "source": [
    "# Why use Sage instead of plain Python?\n",
    "\n",
    "+ The main advantage is the huge mathematical library.\n",
    "+ But since Sage is also Python, you can also use your favorite Python libraries."
   ]
  },
  {
   "cell_type": "markdown",
   "id": "3e6a825e",
   "metadata": {},
   "source": [
    "# Some differences between Python and Sage"
   ]
  },
  {
   "cell_type": "markdown",
   "id": "24e51996",
   "metadata": {},
   "source": [
    "### Python's built-in `int` and `float` types are replaced with Sage's `Integer` and `Real` types."
   ]
  },
  {
   "cell_type": "code",
   "execution_count": null,
   "id": "be506f6e",
   "metadata": {},
   "outputs": [],
   "source": [
    "a=1\n",
    "print(type(a))"
   ]
  },
  {
   "cell_type": "code",
   "execution_count": null,
   "id": "7967e05e",
   "metadata": {},
   "outputs": [],
   "source": [
    "b=a/2  # integer division returns a rational\n",
    "print(b,type(b))"
   ]
  },
  {
   "cell_type": "code",
   "execution_count": null,
   "id": "26220fbf",
   "metadata": {},
   "outputs": [],
   "source": [
    "p=N(pi,100)  # evaluate pi to 100 bits\n",
    "print(p,type(p))"
   ]
  },
  {
   "cell_type": "markdown",
   "id": "9911ca81",
   "metadata": {},
   "source": [
    "### Sage's preprocessor"
   ]
  },
  {
   "cell_type": "markdown",
   "id": "afc12002",
   "metadata": {},
   "source": [
    "`^` is exponentiation instead of bitwise XOR."
   ]
  },
  {
   "cell_type": "code",
   "execution_count": null,
   "id": "89ec229a",
   "metadata": {},
   "outputs": [],
   "source": [
    "2^3  # exponentiation in Sage; bitwise XOR in Python"
   ]
  },
  {
   "cell_type": "code",
   "execution_count": null,
   "id": "6a6fbf66",
   "metadata": {},
   "outputs": [],
   "source": [
    "2^^3  # bitwise XOR in Sage"
   ]
  },
  {
   "cell_type": "markdown",
   "id": "6d3b3763",
   "metadata": {},
   "source": [
    "ellipsis `..` gives an inclusive range.  Python's `range` gives a half-closed, half-open interval."
   ]
  },
  {
   "cell_type": "code",
   "execution_count": null,
   "id": "2683c913",
   "metadata": {},
   "outputs": [],
   "source": [
    "[1..7]"
   ]
  },
  {
   "cell_type": "code",
   "execution_count": null,
   "id": "3a7e9280",
   "metadata": {},
   "outputs": [],
   "source": [
    "[1,3,..,7]  # can also go by steps, as determined by the first two entries"
   ]
  },
  {
   "cell_type": "code",
   "execution_count": null,
   "id": "06efb6cc",
   "metadata": {},
   "outputs": [],
   "source": [
    "sum(i^2 for i in [1..10])  # sum of the squares of the first 10 positive integers."
   ]
  },
  {
   "cell_type": "markdown",
   "id": "d6b46daf",
   "metadata": {},
   "source": [
    "# Example 1: Lights Out"
   ]
  },
  {
   "cell_type": "markdown",
   "id": "a2143246",
   "metadata": {},
   "source": [
    "[Lights Out](https://en.wikipedia.org/wiki/Lights_Out_(game)) is an electronic game released by Tiger Electronics in 1995."
   ]
  },
  {
   "cell_type": "markdown",
   "id": "cf55a9b9",
   "metadata": {},
   "source": [
    "As in NumPy, entries of Matrices are indexed starting at 0:\n",
    "$$\n",
    "M=\n",
    "\\begin{bmatrix}\n",
    "M[0,0] & M[0,1] & \\ldots & M[0,n-1] \\\\\n",
    "M[1,0] & M[1,1] & \\ldots & M[1,n-1] \\\\\n",
    "\\vdots & \\vdots & \\ddots & \\vdots  \\\\\n",
    "M[m-1,0] & M[m-1,1] & \\ldots & M[m-1,n-1]\n",
    "\\end{bmatrix}.\n",
    "$$"
   ]
  },
  {
   "cell_type": "markdown",
   "id": "5c940b6b",
   "metadata": {},
   "source": [
    "The Lights Out board is $5\\times 5$, which we can represent as a matrix."
   ]
  },
  {
   "cell_type": "code",
   "execution_count": null,
   "id": "95d23e4e",
   "metadata": {},
   "outputs": [],
   "source": [
    "target=Matrix(\n",
    "    GF(2),  # the field is the finite field (\"Galois field\") of two elements\n",
    "    5,5,  # 5x5 matrix\n",
    "    0)  # initialize with 0s\n",
    "target[0,0]=target[0,4]=target[4,0]=target[4,4]=1\n",
    "print(target)"
   ]
  },
  {
   "cell_type": "code",
   "execution_count": null,
   "id": "c66539c7",
   "metadata": {},
   "outputs": [],
   "source": [
    "import itertools"
   ]
  },
  {
   "cell_type": "code",
   "execution_count": null,
   "id": "9b97ab26",
   "metadata": {},
   "outputs": [],
   "source": []
  },
  {
   "cell_type": "markdown",
   "id": "21666b72",
   "metadata": {},
   "source": [
    "# Example 2: Formulas for sums of powers of integers\n",
    "\n",
    "We know that $$ 1 + 2 + 3 + \\ldots + n = \\frac{n(n+1)}{2}=\\frac{1}{2}n^2 + \\frac{1}{2}n.$$\n",
    "and $$ 1^2 + 2^2 + 3^2 + \\ldots + n^2 = \\frac{n(n+1)(2n+1)}{6}=\\frac{1}{3}n^3 + \\frac{1}{2}n^2 + \\frac{1}{6}n.$$\n",
    "What about the sum of the $k$th power of the first $n$ positive integers?\n",
    "By some \"abstract nonsense\", the answer should be a polynomial of degree at most $k+1$.\n",
    "Let's find the coefficients."
   ]
  },
  {
   "cell_type": "code",
   "execution_count": null,
   "id": "986209c6",
   "metadata": {},
   "outputs": [],
   "source": [
    "k=2"
   ]
  },
  {
   "cell_type": "code",
   "execution_count": null,
   "id": "69bfa4e2",
   "metadata": {},
   "outputs": [],
   "source": [
    "R.<x>=PolynomialRing(QQ)  # univariate polynomial ring with rational coefficients and variable x"
   ]
  },
  {
   "cell_type": "code",
   "execution_count": null,
   "id": "ecf41249",
   "metadata": {},
   "outputs": [],
   "source": [
    "data=[]  # fill in points here\n",
    "data"
   ]
  },
  {
   "cell_type": "code",
   "execution_count": null,
   "id": "71476181",
   "metadata": {},
   "outputs": [],
   "source": [
    "R.lagrange_polynomial(data)  # compute the Lagrange interpolation polynomial"
   ]
  },
  {
   "cell_type": "markdown",
   "id": "35d7a920",
   "metadata": {},
   "source": [
    "What are the coefficients of the polynomial when $k=5$?"
   ]
  },
  {
   "cell_type": "code",
   "execution_count": null,
   "id": "e6991448",
   "metadata": {},
   "outputs": [],
   "source": []
  },
  {
   "cell_type": "markdown",
   "id": "aa34a5a2",
   "metadata": {},
   "source": [
    "# Example 3: Uniquely $K_r$-saturated graphs"
   ]
  },
  {
   "cell_type": "markdown",
   "id": "7d6dd203",
   "metadata": {},
   "source": [
    "Sage has a [lot](https://doc.sagemath.org/html/en/reference/graphs/sage/graphs/generic_graph.html) of graph theory capabilities."
   ]
  },
  {
   "cell_type": "code",
   "execution_count": null,
   "id": "f9189e14",
   "metadata": {},
   "outputs": [],
   "source": [
    "G=graphs.PetersenGraph()\n",
    "G.show()"
   ]
  },
  {
   "cell_type": "code",
   "execution_count": null,
   "id": "57007c6c",
   "metadata": {},
   "outputs": [],
   "source": [
    "G.chromatic_number()"
   ]
  },
  {
   "cell_type": "code",
   "execution_count": null,
   "id": "08291a13",
   "metadata": {},
   "outputs": [],
   "source": [
    "G.coloring()"
   ]
  },
  {
   "cell_type": "code",
   "execution_count": null,
   "id": "b9238dea",
   "metadata": {},
   "outputs": [],
   "source": [
    "hex_colors=G.coloring(hex_colors=True)\n",
    "hex_colors"
   ]
  },
  {
   "cell_type": "code",
   "execution_count": null,
   "id": "354531fc",
   "metadata": {},
   "outputs": [],
   "source": [
    "p=G.plot(vertex_colors=hex_colors)\n",
    "p.show()"
   ]
  },
  {
   "cell_type": "markdown",
   "id": "dec15ac0",
   "metadata": {},
   "source": [
    "We can generate *all* proper $n$-vertex graph colorings."
   ]
  },
  {
   "cell_type": "code",
   "execution_count": null,
   "id": "d8997d91",
   "metadata": {},
   "outputs": [],
   "source": [
    "from sage.graphs.graph_coloring import all_graph_colorings\n",
    "count=0\n",
    "for C in all_graph_colorings(G,G.chromatic_number()):\n",
    "    count+=1\n",
    "print(f\"There are {count} colorings.\")"
   ]
  },
  {
   "cell_type": "markdown",
   "id": "8948555d",
   "metadata": {},
   "source": [
    "## Subexample 3.a:\n",
    "\n",
    "Sage can generate graphs and check properties.\n",
    "\n",
    "What is the smallest graph with trivial automorphism group?"
   ]
  },
  {
   "cell_type": "code",
   "execution_count": null,
   "id": "e92ff00e",
   "metadata": {},
   "outputs": [],
   "source": [
    "for n in range(2,10):\n",
    "    print(f\"Testing graphs with {n} vertices.\")\n",
    "    break_loop=False\n",
    "    for G in graphs(n):  # generates all simple undirected n-vertex graphs, up to symmetry\n",
    "        \n",
    "        \n",
    "        pass  # put code here\n",
    "    \n",
    "    \n",
    "    if break_loop:\n",
    "        break"
   ]
  },
  {
   "cell_type": "markdown",
   "id": "d256c6a9",
   "metadata": {},
   "source": [
    "## Subexample 3.b:\n",
    "\n",
    "The *square $G^2$* of a graph $G$ has the same vertex set as $G$, and two vertices $u$ and $v$ are adjacent in $G^2$ if the distance between them in $G$ is at most $2$.\n",
    "\n",
    "What is the largest subcubic planar graph $G$ such that $G^2$ is complete?"
   ]
  },
  {
   "cell_type": "markdown",
   "id": "1d47a9e4",
   "metadata": {},
   "source": [
    "## Subexample 3.c:\n",
    "\n",
    "A graph $G$ is said to be *uniquely $K_r$-saturated* if $G$ contains (as a subgraph) no copy of $K_r$, and adding any missing edge to $G$ produces *exactly one* copy of $K_r$.\n",
    "\n",
    "What is the smallest uniquely $K_3$-saturated graph?  Are there others on at most 10 vertices?"
   ]
  },
  {
   "cell_type": "markdown",
   "id": "cf8c8dc5",
   "metadata": {},
   "source": [
    "Write a function `is_uniquely_Kr_saturated(G,r)` to test whether a graph $G$ is $K_r$ saturated."
   ]
  },
  {
   "cell_type": "code",
   "execution_count": null,
   "id": "3c6cbc41",
   "metadata": {},
   "outputs": [],
   "source": []
  },
  {
   "cell_type": "code",
   "execution_count": null,
   "id": "33a23d17",
   "metadata": {},
   "outputs": [],
   "source": [
    "# test on some graphs"
   ]
  },
  {
   "cell_type": "code",
   "execution_count": null,
   "id": "415f31dc",
   "metadata": {},
   "outputs": [],
   "source": [
    "n=10\n",
    "for G in graphs(n,property=lambda H: max(H.degree_sequence())<n-1 and H.clique_number()<3):\n",
    "    if is_uniquely_Kr_saturated(G,3):\n",
    "        G.show()"
   ]
  },
  {
   "cell_type": "code",
   "execution_count": null,
   "id": "741b41ac",
   "metadata": {},
   "outputs": [],
   "source": []
  }
 ],
 "metadata": {
  "kernelspec": {
   "display_name": "SageMath 10.0",
   "language": "sage",
   "name": "sagemath"
  },
  "language_info": {
   "codemirror_mode": {
    "name": "ipython",
    "version": 3
   },
   "file_extension": ".py",
   "mimetype": "text/x-python",
   "name": "python",
   "nbconvert_exporter": "python",
   "pygments_lexer": "ipython3",
   "version": "3.11.1"
  }
 },
 "nbformat": 4,
 "nbformat_minor": 5
}
